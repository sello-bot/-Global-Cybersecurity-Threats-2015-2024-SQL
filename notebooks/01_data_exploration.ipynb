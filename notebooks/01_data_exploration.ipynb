{
 "cells": [
  {
   "cell_type": "markdown",
   "metadata": {},
   "source": [
    "# 🔍 Data Exploration - Cybersecurity Threats Analysis\n",
    "\n",
    "This notebook provides comprehensive exploration of the Global Cybersecurity Threats Dataset (2015-2024).\n",
    "\n",
    "## 📋 Contents\n",
    "1. Data Loading and Basic Information\n",
    "2. Dataset Structure Analysis\n",
    "3. Missing Values Assessment\n",
    "4. Statistical Summary\n",
    "5. Initial Visualizations"
   ]
  },
  {
   "cell_type": "code",
   "execution_count": null,
   "metadata": {},
   "outputs": [],
   "source": [
    "# Import required libraries\n",
    "import pandas as pd\n",
    "import numpy as np\n",
    "import matplotlib.pyplot as plt\n",
    "import seaborn as sns\n",
    "import sqlite3\n",
    "from pathlib import Path\n",
    "import sys\n",
    "\n",
    "# Add src to path for imports\n",
    "sys.path.append('../src')\n",
    "\n",
    "from utils.data_loader import DataLoader\n",
    "from analysis.threat_analyzer import ThreatAnalyzer\n",
    "\n",
    "# Configure plotting\n",
    "plt.style.use('seaborn-v0_8')\n",
    "sns.set_palette('viridis')\n",
    "plt.rcParams['figure.figsize'] = (12, 8)\n",
    "\n",
    "# Suppress warnings\n",
    "import warnings\n",
    "warnings.filterwarnings('ignore')"
   ]
  },
  {
   "cell_type": "code",
   "execution_count": null,
   "metadata": {},
   "outputs": [],
   "source": [
    "# Load the dataset\n",
    "data_loader = DataLoader()\n",
    "\n",
    "# Update this path to your actual dataset location\n",
    "data_path = '../data/raw/cybersecurity_threats.csv'\n",
    "\n",
    "try:\n",
    "    df = data_loader.load_csv(data_path)\n",
    "    print(f\"✅ Dataset loaded successfully!\")\n",
    "    print(f\"📊 Shape: {df.shape}\")\n",
    "    print(f\"📅 Columns: {list(df.columns)}\")\nexcept FileNotFoundError:\n",
    "    print(\"❌ Dataset file not found. Please check the file path.\")\n",
    "    print(\"💡 Make sure to place your dataset in the '../data/raw/' directory\")"
   ]
  }
 ],
 "metadata": {
  "kernelspec": {
   "display_name": "Python 3",
   "language": "python",
   "name": "python3"
  },
  "language_info": {
   "codemirror_mode": {
    "name": "ipython",
    "version": 3
   },
   "file_extension": ".py",
   "mimetype": "text/x-python",
   "name": "python",
   "nbconvert_exporter": "python",
   "pygments_lexer": "ipython3",
   "version": "3.8.0"
  }
 },
 "nbformat": 4,
 "nbformat_minor": 4
}